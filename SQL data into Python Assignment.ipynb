{
 "cells": [
  {
   "cell_type": "code",
   "execution_count": 62,
   "metadata": {},
   "outputs": [
    {
     "name": "stdout",
     "output_type": "stream",
     "text": [
      "Requirement already satisfied: sqlalchemy in /anaconda3/lib/python3.7/site-packages (1.3.5)\n",
      "Requirement already satisfied: psycopg2 in /anaconda3/lib/python3.7/site-packages (2.8.3)\n"
     ]
    }
   ],
   "source": [
    "!pip install sqlalchemy\n",
    "!pip install psycopg2"
   ]
  },
  {
   "cell_type": "code",
   "execution_count": 2,
   "metadata": {},
   "outputs": [],
   "source": [
    "from sqlalchemy import create_engine"
   ]
  },
  {
   "cell_type": "markdown",
   "metadata": {},
   "source": [
    "## Question 1"
   ]
  },
  {
   "cell_type": "code",
   "execution_count": 61,
   "metadata": {},
   "outputs": [
    {
     "name": "stdout",
     "output_type": "stream",
     "text": [
      "[('R', 195), ('NC-17', 210), ('PG', 194), ('PG-13', 223), ('G', 178)]\n"
     ]
    }
   ],
   "source": [
    "# Database credentials\n",
    "postgres_user = 'dsbc_student'\n",
    "postgres_pw = '7*.8G9QH21'\n",
    "postgres_host = '142.93.121.174'\n",
    "postgres_port = '5432'\n",
    "postgres_db = 'dvdrentals'\n",
    "\n",
    "# use the credentials to start a connection\n",
    "engine = create_engine('postgresql://{}:{}@{}:{}/{}'.format(\n",
    "    postgres_user, postgres_pw, postgres_host, postgres_port, postgres_db))\n",
    "\n",
    "sql = '''\n",
    "select rating, count(*)\n",
    "from film\n",
    "group by rating '''\n",
    "film_count_by_rating = engine.execute(sql)\n",
    "rows = film_count_by_rating.fetchall()\n",
    "print(rows)"
   ]
  },
  {
   "cell_type": "markdown",
   "metadata": {},
   "source": [
    "### Answer (question 1)\n",
    "- 195 rated R films\n",
    "- 210 NC-17 films\n",
    "- 223 PG-13 films\n",
    "- 194 PG films\n",
    "- 178 rate G films"
   ]
  },
  {
   "cell_type": "markdown",
   "metadata": {},
   "source": [
    "## Question 2"
   ]
  },
  {
   "cell_type": "code",
   "execution_count": 60,
   "metadata": {},
   "outputs": [
    {
     "name": "stdout",
     "output_type": "stream",
     "text": [
      "[('R', Decimal('4.7743589743589744')), ('NC-17', Decimal('5.1428571428571429')), ('PG', Decimal('5.0824742268041237')), ('PG-13', Decimal('5.0538116591928251')), ('G', Decimal('4.8370786516853933'))]\n"
     ]
    }
   ],
   "source": [
    "sql = '''\n",
    "select rating, avg(rental_duration)\n",
    "from film\n",
    "group by rating '''\n",
    "avg_rental_duration = engine.execute(sql)\n",
    "rows = avg_rental_duration.fetchall()\n",
    "print(rows)"
   ]
  },
  {
   "cell_type": "markdown",
   "metadata": {},
   "source": [
    "### Answer (question 2)\n",
    "Rated R films - 4.77 average rental duration <br>\n",
    "Rated PG-13 films - 5.05 average rental duration <br>\n",
    "Rated PG films - 5.08 average rental duration <br>\n",
    "Rated G films - 4.84 average rental duration <br>\n",
    "Rated NC-17 films - 5.14 average rental duration"
   ]
  },
  {
   "cell_type": "markdown",
   "metadata": {},
   "source": [
    "## Question 3"
   ]
  },
  {
   "cell_type": "code",
   "execution_count": 53,
   "metadata": {},
   "outputs": [
    {
     "data": {
      "text/plain": [
       "115.272"
      ]
     },
     "execution_count": 53,
     "metadata": {},
     "output_type": "execute_result"
    }
   ],
   "source": [
    "sql = '''\n",
    "select length\n",
    "from film '''\n",
    "film_lengths = engine.execute(sql)\n",
    "rows = film_lengths.fetchall()\n",
    "film_lengths = [x['length'] for x in rows]\n",
    "film_lengths\n",
    "\n",
    "def mean(nums):\n",
    "    total = 0\n",
    "    for num in nums:\n",
    "        total += num\n",
    "    count = len(nums)\n",
    "    avg = total/count\n",
    "    return avg\n",
    "mean(film_lengths)"
   ]
  },
  {
   "cell_type": "markdown",
   "metadata": {},
   "source": [
    "### Answer (question 3)\n",
    "mean film length = 115.27"
   ]
  },
  {
   "cell_type": "markdown",
   "metadata": {},
   "source": [
    "## Question 4"
   ]
  },
  {
   "cell_type": "code",
   "execution_count": 47,
   "metadata": {},
   "outputs": [],
   "source": [
    "def median(nums):\n",
    "    nums.sort()\n",
    "    if len(nums)%2 == 0:\n",
    "        return (nums[int(len(nums)/2 - 1)] + nums[int(len(nums)/2)])/2\n",
    "    else:\n",
    "        return nums[int(len(nums)/2)]"
   ]
  },
  {
   "cell_type": "markdown",
   "metadata": {},
   "source": [
    "### Answer (question 4)\n",
    "Median film length = 114"
   ]
  },
  {
   "cell_type": "markdown",
   "metadata": {},
   "source": [
    "## Question 5"
   ]
  },
  {
   "cell_type": "code",
   "execution_count": 55,
   "metadata": {},
   "outputs": [
    {
     "data": {
      "text/plain": [
       "40.42633181855988"
      ]
     },
     "execution_count": 55,
     "metadata": {},
     "output_type": "execute_result"
    }
   ],
   "source": [
    "def std_dev(nums):\n",
    "    avg = mean(nums)\n",
    "    total = 0\n",
    "    for num in nums:\n",
    "        diff = (num - avg)**2\n",
    "        total += diff\n",
    "    return (total/(len(nums) - 1))**.5\n",
    "std_dev(film_lengths)      "
   ]
  },
  {
   "cell_type": "markdown",
   "metadata": {},
   "source": [
    "### Answer (question 5)\n",
    "Standard deviation = 40.43"
   ]
  },
  {
   "cell_type": "code",
   "execution_count": null,
   "metadata": {},
   "outputs": [],
   "source": []
  }
 ],
 "metadata": {
  "kernelspec": {
   "display_name": "Python 3",
   "language": "python",
   "name": "python3"
  },
  "language_info": {
   "codemirror_mode": {
    "name": "ipython",
    "version": 3
   },
   "file_extension": ".py",
   "mimetype": "text/x-python",
   "name": "python",
   "nbconvert_exporter": "python",
   "pygments_lexer": "ipython3",
   "version": "3.7.3"
  }
 },
 "nbformat": 4,
 "nbformat_minor": 2
}
